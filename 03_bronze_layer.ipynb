{
 "cells": [
  {
   "cell_type": "markdown",
   "metadata": {},
   "source": [
    "# Bronze Layer Creation\n",
    "\n",
    "This notebook creates the bronze layer by ingesting raw data from S3 into DuckDB tables."
   ]
  },
  {
   "cell_type": "code",
   "execution_count": null,
   "metadata": {},
   "outputs": [],
   "source": [
    "# Import required libraries\n",
    "import sys\n",
    "import pandas as pd\n",
    "import numpy as np\n",
    "from pathlib import Path\n",
    "from datetime import datetime\n",
    "\n",
    "# Add project root to path\n",
    "project_root = Path().absolute()\n",
    "sys.path.insert(0, str(project_root))\n",
    "\n",
    "from utils.database import DuckDBManager\n",
    "from config.settings import config\n",
    "\n",
    "# Initialize components\n",
    "config.setup_logging()\n",
    "db_manager = DuckDBManager()\n",
    "\n",
    "print(\"\ud83c\udfd7\ufe0f Bronze Layer Creation Started\")\n",
    "print(f\"\ud83d\udd17 S3 Ingestion Path: {config.INGESTION_PATH}\")"
   ]
  },
  {
   "cell_type": "markdown",
   "metadata": {},
   "source": [
    "## 1. Create Bronze Schema"
   ]
  },
  {
   "cell_type": "code",
   "execution_count": null,
   "metadata": {},
   "outputs": [],
   "source": [
    "# Create bronze schema and tables\n",
    "print(\"\ud83d\udcca Creating bronze schema...\")\n",
    "\n",
    "bronze_schema_sql = \"\"\"\n",
    "-- Create bronze schema\n",
    "CREATE SCHEMA IF NOT EXISTS bronze;\n",
    "\n",
    "-- Create bronze layer table for bond data\n",
    "CREATE OR REPLACE TABLE bronze.bond_data AS\n",
    "SELECT \n",
    "    *,\n",
    "    filename as source_file,\n",
    "    REGEXP_EXTRACT(filename, '(\\\\\\\\d{4}-\\\\\\\\d{2}-\\\\\\\\d{2})', 1) as data_date,\n",
    "    current_timestamp as ingestion_timestamp\n",
    "FROM read_csv(?, \n",
    "             AUTO_DETECT=true, \n",
    "             FILENAME=true,\n",
    "             UNION_BY_NAME=true)\n",
    "\"\"\"\n",
    "\n",
    "try:\n",
    "    # Create the bronze table\n",
    "    result = db_manager.execute_sql(\n",
    "        bronze_schema_sql.replace('?', f\"'{config.INGESTION_PATH}/*/*.csv.gz'\")\n",
    "    )\n",
    "    \n",
    "    print(\"\u2705 Bronze schema and tables created successfully\")\n",
    "    \n",
    "    # Get row count\n",
    "    count_result = db_manager.execute_query(\"SELECT COUNT(*) as row_count FROM bronze.bond_data\")\n",
    "    row_count = count_result['row_count'].iloc[0]\n",
    "    print(f\"\ud83d\udcca Bronze layer contains {row_count:,} rows\")\n",
    "    \n",
    "except Exception as e:\n",
    "    print(f\"\u274c Bronze layer creation failed: {e}\")"
   ]
  },
  {
   "cell_type": "markdown",
   "metadata": {},
   "source": [
    "## 2. Data Quality Checks"
   ]
  },
  {
   "cell_type": "code",
   "execution_count": null,
   "metadata": {},
   "outputs": [],
   "source": [
    "# Perform data quality checks on bronze layer\n",
    "print(\"\ud83d\udd0d Performing data quality checks...\")\n",
    "\n",
    "quality_checks = {\n",
    "    \"Total Records\": \"SELECT COUNT(*) as count FROM bronze.bond_data\",\n",
    "    \"Unique Files\": \"SELECT COUNT(DISTINCT source_file) as count FROM bronze.bond_data\",\n",
    "    \"Date Range\": \"SELECT MIN(data_date) as min_date, MAX(data_date) as max_date FROM bronze.bond_data WHERE data_date IS NOT NULL\",\n",
    "    \"Null Values\": \"SELECT COUNT(*) as count FROM bronze.bond_data WHERE data_date IS NULL\"\n",
    "}\n",
    "\n",
    "try:\n",
    "    print(\"\\n\ud83d\udcca Bronze Layer Quality Report:\")\n",
    "    for check_name, query in quality_checks.items():\n",
    "        result = db_manager.execute_query(query)\n",
    "        print(f\"  {check_name}: {result.iloc[0].to_dict()}\")\n",
    "    \n",
    "    # Sample data preview\n",
    "    sample_data = db_manager.execute_query(\"SELECT * FROM bronze.bond_data LIMIT 5\")\n",
    "    print(\"\\n\ud83d\udd0d Sample Data:\")\n",
    "    print(sample_data)\n",
    "    \n",
    "except Exception as e:\n",
    "    print(f\"\u274c Quality checks failed: {e}\")"
   ]
  },
  {
   "cell_type": "markdown",
   "metadata": {},
   "source": [
    "## 3. Create Bronze Layer Summary"
   ]
  },
  {
   "cell_type": "code",
   "execution_count": null,
   "metadata": {},
   "outputs": [],
   "source": [
    "# Generate bronze layer summary\n",
    "print(\"\ud83d\udccb Bronze Layer Summary\")\n",
    "print(\"=\" * 30)\n",
    "\n",
    "try:\n",
    "    # Get table info\n",
    "    table_info = db_manager.execute_query(\"DESCRIBE bronze.bond_data\")\n",
    "    print(f\"\u2705 Table created: bronze.bond_data\")\n",
    "    print(f\"\ud83d\udcca Columns: {len(table_info)}\")\n",
    "    print(f\"\ud83d\uddc2\ufe0f  Schema: bronze\")\n",
    "    \n",
    "    # Log completion\n",
    "    completion_log = \"\"\"\n",
    "    INSERT INTO audit.data_ingestion_log \n",
    "    (log_id, source_path, record_count, processing_status, error_message)\n",
    "    VALUES (nextval('audit.log_seq'), 'bronze_layer', ?, 'completed', 'Bronze layer created successfully')\n",
    "    \"\"\"\n",
    "    \n",
    "    try:\n",
    "        count_result = db_manager.execute_query(\"SELECT COUNT(*) as count FROM bronze.bond_data\")\n",
    "        record_count = count_result['count'].iloc[0]\n",
    "        db_manager.execute_sql(completion_log.replace('?', str(record_count)))\n",
    "        print(\"\u2705 Process logged to audit table\")\n",
    "    except:\n",
    "        print(\"\u26a0\ufe0f  Audit logging skipped (table may not exist)\")\n",
    "    \n",
    "    print(\"\\n\ud83c\udf89 Bronze layer creation completed successfully!\")\n",
    "    print(\"\ud83d\udccc Next: Run 04_silver_layer.ipynb to clean and transform the data\")\n",
    "    \n",
    "except Exception as e:\n",
    "    print(f\"\u274c Summary generation failed: {e}\")"
   ]
  }
 ],
 "metadata": {
  "kernelspec": {
   "display_name": "Python 3",
   "language": "python",
   "name": "python3"
  },
  "language_info": {
   "codemirror_mode": {
    "name": "ipython",
    "version": 3
   },
   "file_extension": ".py",
   "mimetype": "text/x-python",
   "name": "python",
   "nbconvert_exporter": "python",
   "pygments_lexer": "ipython3",
   "version": "3.9.0"
  }
 },
 "nbformat": 4,
 "nbformat_minor": 4
}