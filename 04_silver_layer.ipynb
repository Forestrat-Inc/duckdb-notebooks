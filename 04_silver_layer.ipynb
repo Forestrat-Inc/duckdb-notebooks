{
 "cells": [
  {
   "cell_type": "markdown",
   "metadata": {},
   "source": [
    "# Silver Layer Creation\n",
    "\n",
    "This notebook creates the silver layer by cleaning and transforming bronze layer data."
   ]
  },
  {
   "cell_type": "code",
   "execution_count": 24,
   "metadata": {},
   "outputs": [
    {
     "name": "stdout",
     "output_type": "stream",
     "text": [
      "🥈 Silver Layer Creation Started\n",
      "📊 Cleaning and transforming bronze layer data...\n"
     ]
    }
   ],
   "source": [
    "# Import required libraries\n",
    "import sys\n",
    "import pandas as pd\n",
    "import numpy as np\n",
    "from pathlib import Path\n",
    "from datetime import datetime\n",
    "\n",
    "# Add project root to path\n",
    "project_root = Path().absolute()\n",
    "sys.path.insert(0, str(project_root))\n",
    "\n",
    "from utils.database import DuckDBManager\n",
    "from config.settings import config\n",
    "\n",
    "# Initialize components\n",
    "config.setup_logging()\n",
    "db_manager = DuckDBManager()\n",
    "\n",
    "print(\"🥈 Silver Layer Creation Started\")\n",
    "print(\"📊 Cleaning and transforming bronze layer data...\")"
   ]
  },
  {
   "cell_type": "markdown",
   "metadata": {},
   "source": [
    "## 1. Create Silver Schema"
   ]
  },
  {
   "cell_type": "code",
   "execution_count": 25,
   "metadata": {},
   "outputs": [
    {
     "name": "stderr",
     "output_type": "stream",
     "text": [
      "2025-06-18 17:33:46,458 - utils.database - INFO - S3 credentials configured\n",
      "2025-06-18 17:33:46,458 - utils.database - INFO - DuckDB connection configured successfully\n",
      "2025-06-18 17:33:46,459 - utils.database - INFO - SQL statement executed successfully\n",
      "2025-06-18 17:33:46,484 - utils.database - INFO - Query executed successfully. Returned 1 rows\n"
     ]
    },
    {
     "name": "stdout",
     "output_type": "stream",
     "text": [
      "🏗️ Creating silver schema...\n",
      "✅ Silver schema created\n",
      "📊 Bronze layer contains 100,822,111 rows to process\n"
     ]
    }
   ],
   "source": [
    "# Create silver schema\n",
    "print(\"🏗️ Creating silver schema...\")\n",
    "\n",
    "try:\n",
    "    db_manager.execute_sql(\"CREATE SCHEMA IF NOT EXISTS silver;\")\n",
    "    print(\"✅ Silver schema created\")\n",
    "    \n",
    "    # Check if bronze data exists\n",
    "    bronze_check = db_manager.execute_query(\"SELECT COUNT(*) as count FROM bronze.bond_data\")\n",
    "    bronze_count = bronze_check['count'].iloc[0]\n",
    "    print(f\"📊 Bronze layer contains {bronze_count:,} rows to process\")\n",
    "    \n",
    "except Exception as e:\n",
    "    print(f\"❌ Schema creation failed: {e}\")"
   ]
  },
  {
   "cell_type": "markdown",
   "metadata": {},
   "source": [
    "## 2. Data Cleaning and Transformation"
   ]
  },
  {
   "cell_type": "code",
   "execution_count": 26,
   "metadata": {},
   "outputs": [
    {
     "name": "stdout",
     "output_type": "stream",
     "text": [
      "🧹 Cleaning and transforming data...\n"
     ]
    },
    {
     "name": "stderr",
     "output_type": "stream",
     "text": [
      "2025-06-18 17:33:46,503 - utils.database - INFO - SQL statement executed successfully\n",
      "2025-06-18 17:33:46,507 - utils.database - INFO - Query executed successfully. Returned 1 rows\n"
     ]
    },
    {
     "name": "stdout",
     "output_type": "stream",
     "text": [
      "✅ Silver layer created with 0 cleaned rows\n"
     ]
    }
   ],
   "source": [
    "# Clean and transform data\n",
    "print(\"🧹 Cleaning and transforming data...\")\n",
    "\n",
    "silver_transformation_sql = \"\"\"\n",
    "CREATE OR REPLACE TABLE silver.cleaned_bond_data AS\n",
    "SELECT \n",
    "    -- Remove duplicates and clean data\n",
    "    CAST(data_date AS DATE) as trade_date,\n",
    "    source_file,\n",
    "    \n",
    "    -- Clean numeric columns (adjust column names based on your schema)\n",
    "    CASE \n",
    "        WHEN TRY_CAST(\\\"Price\\\" AS DOUBLE) IS NOT NULL THEN CAST(\\\"Price\\\" AS DOUBLE)\n",
    "        ELSE NULL \n",
    "    END as price,\n",
    "    \n",
    "    CASE \n",
    "        WHEN TRY_CAST(\\\"Yield\\\" AS DOUBLE) IS NOT NULL THEN CAST(\\\"Yield\\\" AS DOUBLE)\n",
    "        ELSE NULL \n",
    "    END as yield_value,\n",
    "    \n",
    "    -- Add validation flags\n",
    "    CASE \n",
    "        WHEN \\\"Price\\\" IS NOT NULL AND \\\"Yield\\\" IS NOT NULL THEN 'VALID'\n",
    "        WHEN \\\"Price\\\" IS NULL OR \\\"Yield\\\" IS NULL THEN 'INCOMPLETE'\n",
    "        ELSE 'INVALID'\n",
    "    END as data_quality_flag,\n",
    "    \n",
    "    ingestion_timestamp,\n",
    "    current_timestamp as silver_processed_timestamp\n",
    "FROM bronze.bond_data\n",
    "WHERE data_date IS NOT NULL\n",
    "    AND data_date >= '2020-01-01'  -- Filter reasonable date range\n",
    "\"\"\"\n",
    "\n",
    "try:\n",
    "    db_manager.execute_sql(silver_transformation_sql)\n",
    "    \n",
    "    # Get row count\n",
    "    count_result = db_manager.execute_query(\"SELECT COUNT(*) as row_count FROM silver.cleaned_bond_data\")\n",
    "    row_count = count_result['row_count'].iloc[0]\n",
    "    print(f\"✅ Silver layer created with {row_count:,} cleaned rows\")\n",
    "    \n",
    "except Exception as e:\n",
    "    print(f\"❌ Data transformation failed: {e}\")"
   ]
  },
  {
   "cell_type": "markdown",
   "metadata": {},
   "source": [
    "## 3. Data Quality Validation"
   ]
  },
  {
   "cell_type": "code",
   "execution_count": 27,
   "metadata": {},
   "outputs": [
    {
     "name": "stderr",
     "output_type": "stream",
     "text": [
      "2025-06-18 17:33:46,525 - utils.database - INFO - Query executed successfully. Returned 1 rows\n",
      "2025-06-18 17:33:46,527 - utils.database - INFO - Query executed successfully. Returned 1 rows\n"
     ]
    },
    {
     "name": "stdout",
     "output_type": "stream",
     "text": [
      "✅ Validating cleaned data...\n",
      "\n",
      "📊 Silver Layer Validation Report:\n",
      "  Total Records: {'count': 0}\n",
      "  Valid Records: {'count': 0}\n"
     ]
    },
    {
     "name": "stderr",
     "output_type": "stream",
     "text": [
      "2025-06-18 17:33:46,532 - utils.database - INFO - Query executed successfully. Returned 1 rows\n",
      "2025-06-18 17:33:46,534 - utils.database - INFO - Query executed successfully. Returned 1 rows\n",
      "2025-06-18 17:33:46,539 - utils.database - INFO - Query executed successfully. Returned 1 rows\n",
      "2025-06-18 17:33:46,544 - utils.database - INFO - Query executed successfully. Returned 0 rows\n"
     ]
    },
    {
     "name": "stdout",
     "output_type": "stream",
     "text": [
      "  Incomplete Records: {'count': 0}\n",
      "  Invalid Records: {'count': 0}\n",
      "  Date Range: {'min_date': NaT, 'max_date': NaT}\n",
      "\n",
      "🔍 Sample Cleaned Data:\n",
      "Empty DataFrame\n",
      "Columns: [trade_date, source_file, price, yield_value, data_quality_flag, ingestion_timestamp, silver_processed_timestamp]\n",
      "Index: []\n"
     ]
    }
   ],
   "source": [
    "# Validate cleaned data\n",
    "print(\"✅ Validating cleaned data...\")\n",
    "\n",
    "validation_queries = {\n",
    "    \"Total Records\": \"SELECT COUNT(*) as count FROM silver.cleaned_bond_data\",\n",
    "    \"Valid Records\": \"SELECT COUNT(*) as count FROM silver.cleaned_bond_data WHERE data_quality_flag = 'VALID'\",\n",
    "    \"Incomplete Records\": \"SELECT COUNT(*) as count FROM silver.cleaned_bond_data WHERE data_quality_flag = 'INCOMPLETE'\",\n",
    "    \"Invalid Records\": \"SELECT COUNT(*) as count FROM silver.cleaned_bond_data WHERE data_quality_flag = 'INVALID'\",\n",
    "    \"Date Range\": \"SELECT MIN(trade_date) as min_date, MAX(trade_date) as max_date FROM silver.cleaned_bond_data\"\n",
    "}\n",
    "\n",
    "try:\n",
    "    print(\"\\n📊 Silver Layer Validation Report:\")\n",
    "    for check_name, query in validation_queries.items():\n",
    "        result = db_manager.execute_query(query)\n",
    "        print(f\"  {check_name}: {result.iloc[0].to_dict()}\")\n",
    "    \n",
    "    # Sample cleaned data\n",
    "    sample_data = db_manager.execute_query(\"SELECT * FROM silver.cleaned_bond_data LIMIT 5\")\n",
    "    print(\"\\n🔍 Sample Cleaned Data:\")\n",
    "    print(sample_data)\n",
    "    \n",
    "except Exception as e:\n",
    "    print(f\"❌ Validation failed: {e}\")"
   ]
  },
  {
   "cell_type": "markdown",
   "metadata": {},
   "source": [
    "## 4. Create Silver Layer Summary"
   ]
  },
  {
   "cell_type": "code",
   "execution_count": 28,
   "metadata": {},
   "outputs": [
    {
     "name": "stderr",
     "output_type": "stream",
     "text": [
      "2025-06-18 17:33:46,566 - utils.database - INFO - Query executed successfully. Returned 7 rows\n",
      "2025-06-18 17:33:46,579 - utils.database - INFO - Query executed successfully. Returned 0 rows\n"
     ]
    },
    {
     "name": "stdout",
     "output_type": "stream",
     "text": [
      "📋 Silver Layer Summary\n",
      "==============================\n",
      "✅ Table created: silver.cleaned_bond_data\n",
      "📊 Columns: 7\n",
      "🗂️  Schema: silver\n",
      "\n",
      "📊 Data Quality Summary:\n",
      "Empty DataFrame\n",
      "Columns: [data_quality_flag, record_count, percentage]\n",
      "Index: []\n",
      "\n",
      "🎉 Silver layer creation completed successfully!\n",
      "📌 Next: Run 05_gold_layer.ipynb to create analytics-ready data\n"
     ]
    }
   ],
   "source": [
    "# Generate silver layer summary\n",
    "print(\"📋 Silver Layer Summary\")\n",
    "print(\"=\" * 30)\n",
    "\n",
    "try:\n",
    "    # Get table info\n",
    "    table_info = db_manager.execute_query(\"DESCRIBE silver.cleaned_bond_data\")\n",
    "    print(f\"✅ Table created: silver.cleaned_bond_data\")\n",
    "    print(f\"📊 Columns: {len(table_info)}\")\n",
    "    print(f\"🗂️  Schema: silver\")\n",
    "    \n",
    "    # Calculate data quality metrics\n",
    "    quality_summary = db_manager.execute_query(\"\"\"\n",
    "        SELECT \n",
    "            data_quality_flag,\n",
    "            COUNT(*) as record_count,\n",
    "            ROUND(COUNT(*) * 100.0 / SUM(COUNT(*)) OVER(), 2) as percentage\n",
    "        FROM silver.cleaned_bond_data \n",
    "        GROUP BY data_quality_flag\n",
    "    \"\"\")\n",
    "    \n",
    "    print(\"\\n📊 Data Quality Summary:\")\n",
    "    print(quality_summary)\n",
    "    \n",
    "    print(\"\\n🎉 Silver layer creation completed successfully!\")\n",
    "    print(\"📌 Next: Run 05_gold_layer.ipynb to create analytics-ready data\")\n",
    "    \n",
    "except Exception as e:\n",
    "    print(f\"❌ Summary generation failed: {e}\")"
   ]
  }
 ],
 "metadata": {
  "kernelspec": {
   "display_name": "Python 3 (ipykernel)",
   "language": "python",
   "name": "python3"
  },
  "language_info": {
   "codemirror_mode": {
    "name": "ipython",
    "version": 3
   },
   "file_extension": ".py",
   "mimetype": "text/x-python",
   "name": "python",
   "nbconvert_exporter": "python",
   "pygments_lexer": "ipython3",
   "version": "3.10.14"
  }
 },
 "nbformat": 4,
 "nbformat_minor": 4
}
