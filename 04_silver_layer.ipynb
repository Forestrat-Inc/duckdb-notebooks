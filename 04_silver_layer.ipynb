{
 "cells": [
  {
   "cell_type": "markdown",
   "metadata": {},
   "source": [
    "# Silver Layer Creation\n",
    "\n",
    "This notebook creates the silver layer by cleaning and transforming bronze layer data."
   ]
  },
  {
   "cell_type": "code",
   "execution_count": null,
   "metadata": {},
   "outputs": [],
   "source": [
    "# Import required libraries\n",
    "import sys\n",
    "import pandas as pd\n",
    "import numpy as np\n",
    "from pathlib import Path\n",
    "from datetime import datetime\n",
    "\n",
    "# Add project root to path\n",
    "project_root = Path().absolute()\n",
    "sys.path.insert(0, str(project_root))\n",
    "\n",
    "from utils.database import DuckDBManager\n",
    "from config.settings import config\n",
    "\n",
    "# Initialize components\n",
    "config.setup_logging()\n",
    "db_manager = DuckDBManager()\n",
    "\n",
    "print(\"\ud83e\udd48 Silver Layer Creation Started\")\n",
    "print(\"\ud83d\udcca Cleaning and transforming bronze layer data...\")"
   ]
  },
  {
   "cell_type": "markdown",
   "metadata": {},
   "source": [
    "## 1. Create Silver Schema"
   ]
  },
  {
   "cell_type": "code",
   "execution_count": null,
   "metadata": {},
   "outputs": [],
   "source": [
    "# Create silver schema\n",
    "print(\"\ud83c\udfd7\ufe0f Creating silver schema...\")\n",
    "\n",
    "try:\n",
    "    db_manager.execute_sql(\"CREATE SCHEMA IF NOT EXISTS silver;\")\n",
    "    print(\"\u2705 Silver schema created\")\n",
    "    \n",
    "    # Check if bronze data exists\n",
    "    bronze_check = db_manager.execute_query(\"SELECT COUNT(*) as count FROM bronze.bond_data\")\n",
    "    bronze_count = bronze_check['count'].iloc[0]\n",
    "    print(f\"\ud83d\udcca Bronze layer contains {bronze_count:,} rows to process\")\n",
    "    \n",
    "except Exception as e:\n",
    "    print(f\"\u274c Schema creation failed: {e}\")"
   ]
  },
  {
   "cell_type": "markdown",
   "metadata": {},
   "source": [
    "## 2. Data Cleaning and Transformation"
   ]
  },
  {
   "cell_type": "code",
   "execution_count": null,
   "metadata": {},
   "outputs": [],
   "source": [
    "# Clean and transform data\n",
    "print(\"\ud83e\uddf9 Cleaning and transforming data...\")\n",
    "\n",
    "silver_transformation_sql = \"\"\"\n",
    "CREATE OR REPLACE TABLE silver.cleaned_bond_data AS\n",
    "SELECT \n",
    "    -- Remove duplicates and clean data\n",
    "    CAST(data_date AS DATE) as trade_date,\n",
    "    source_file,\n",
    "    \n",
    "    -- Clean numeric columns (adjust column names based on your schema)\n",
    "    CASE \n",
    "        WHEN TRY_CAST(\\\"Price\\\" AS DOUBLE) IS NOT NULL THEN CAST(\\\"Price\\\" AS DOUBLE)\n",
    "        ELSE NULL \n",
    "    END as price,\n",
    "    \n",
    "    CASE \n",
    "        WHEN TRY_CAST(\\\"Yield\\\" AS DOUBLE) IS NOT NULL THEN CAST(\\\"Yield\\\" AS DOUBLE)\n",
    "        ELSE NULL \n",
    "    END as yield_value,\n",
    "    \n",
    "    -- Add validation flags\n",
    "    CASE \n",
    "        WHEN \\\"Price\\\" IS NOT NULL AND \\\"Yield\\\" IS NOT NULL THEN 'VALID'\n",
    "        WHEN \\\"Price\\\" IS NULL OR \\\"Yield\\\" IS NULL THEN 'INCOMPLETE'\n",
    "        ELSE 'INVALID'\n",
    "    END as data_quality_flag,\n",
    "    \n",
    "    ingestion_timestamp,\n",
    "    current_timestamp as silver_processed_timestamp\n",
    "FROM bronze.bond_data\n",
    "WHERE data_date IS NOT NULL\n",
    "    AND data_date >= '2020-01-01'  -- Filter reasonable date range\n",
    "\"\"\"\n",
    "\n",
    "try:\n",
    "    db_manager.execute_sql(silver_transformation_sql)\n",
    "    \n",
    "    # Get row count\n",
    "    count_result = db_manager.execute_query(\"SELECT COUNT(*) as row_count FROM silver.cleaned_bond_data\")\n",
    "    row_count = count_result['row_count'].iloc[0]\n",
    "    print(f\"\u2705 Silver layer created with {row_count:,} cleaned rows\")\n",
    "    \n",
    "except Exception as e:\n",
    "    print(f\"\u274c Data transformation failed: {e}\")"
   ]
  },
  {
   "cell_type": "markdown",
   "metadata": {},
   "source": [
    "## 3. Data Quality Validation"
   ]
  },
  {
   "cell_type": "code",
   "execution_count": null,
   "metadata": {},
   "outputs": [],
   "source": [
    "# Validate cleaned data\n",
    "print(\"\u2705 Validating cleaned data...\")\n",
    "\n",
    "validation_queries = {\n",
    "    \"Total Records\": \"SELECT COUNT(*) as count FROM silver.cleaned_bond_data\",\n",
    "    \"Valid Records\": \"SELECT COUNT(*) as count FROM silver.cleaned_bond_data WHERE data_quality_flag = 'VALID'\",\n",
    "    \"Incomplete Records\": \"SELECT COUNT(*) as count FROM silver.cleaned_bond_data WHERE data_quality_flag = 'INCOMPLETE'\",\n",
    "    \"Invalid Records\": \"SELECT COUNT(*) as count FROM silver.cleaned_bond_data WHERE data_quality_flag = 'INVALID'\",\n",
    "    \"Date Range\": \"SELECT MIN(trade_date) as min_date, MAX(trade_date) as max_date FROM silver.cleaned_bond_data\"\n",
    "}\n",
    "\n",
    "try:\n",
    "    print(\"\\n\ud83d\udcca Silver Layer Validation Report:\")\n",
    "    for check_name, query in validation_queries.items():\n",
    "        result = db_manager.execute_query(query)\n",
    "        print(f\"  {check_name}: {result.iloc[0].to_dict()}\")\n",
    "    \n",
    "    # Sample cleaned data\n",
    "    sample_data = db_manager.execute_query(\"SELECT * FROM silver.cleaned_bond_data LIMIT 5\")\n",
    "    print(\"\\n\ud83d\udd0d Sample Cleaned Data:\")\n",
    "    print(sample_data)\n",
    "    \n",
    "except Exception as e:\n",
    "    print(f\"\u274c Validation failed: {e}\")"
   ]
  },
  {
   "cell_type": "markdown",
   "metadata": {},
   "source": [
    "## 4. Create Silver Layer Summary"
   ]
  },
  {
   "cell_type": "code",
   "execution_count": null,
   "metadata": {},
   "outputs": [],
   "source": [
    "# Generate silver layer summary\n",
    "print(\"\ud83d\udccb Silver Layer Summary\")\n",
    "print(\"=\" * 30)\n",
    "\n",
    "try:\n",
    "    # Get table info\n",
    "    table_info = db_manager.execute_query(\"DESCRIBE silver.cleaned_bond_data\")\n",
    "    print(f\"\u2705 Table created: silver.cleaned_bond_data\")\n",
    "    print(f\"\ud83d\udcca Columns: {len(table_info)}\")\n",
    "    print(f\"\ud83d\uddc2\ufe0f  Schema: silver\")\n",
    "    \n",
    "    # Calculate data quality metrics\n",
    "    quality_summary = db_manager.execute_query(\"\"\"\n",
    "        SELECT \n",
    "            data_quality_flag,\n",
    "            COUNT(*) as record_count,\n",
    "            ROUND(COUNT(*) * 100.0 / SUM(COUNT(*)) OVER(), 2) as percentage\n",
    "        FROM silver.cleaned_bond_data \n",
    "        GROUP BY data_quality_flag\n",
    "    \"\"\")\n",
    "    \n",
    "    print(\"\\n\ud83d\udcca Data Quality Summary:\")\n",
    "    print(quality_summary)\n",
    "    \n",
    "    print(\"\\n\ud83c\udf89 Silver layer creation completed successfully!\")\n",
    "    print(\"\ud83d\udccc Next: Run 05_gold_layer.ipynb to create analytics-ready data\")\n",
    "    \n",
    "except Exception as e:\n",
    "    print(f\"\u274c Summary generation failed: {e}\")"
   ]
  }
 ],
 "metadata": {
  "kernelspec": {
   "display_name": "Python 3",
   "language": "python",
   "name": "python3"
  },
  "language_info": {
   "codemirror_mode": {
    "name": "ipython",
    "version": 3
   },
   "file_extension": ".py",
   "mimetype": "text/x-python",
   "name": "python",
   "nbconvert_exporter": "python",
   "pygments_lexer": "ipython3",
   "version": "3.9.0"
  }
 },
 "nbformat": 4,
 "nbformat_minor": 4
}