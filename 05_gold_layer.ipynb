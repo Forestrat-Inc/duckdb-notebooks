{
 "cells": [
  {
   "cell_type": "markdown",
   "metadata": {},
   "source": [
    "# Gold Layer Creation\n",
    "\n",
    "This notebook creates the gold layer with analytics-ready, aggregated data for business intelligence."
   ]
  },
  {
   "cell_type": "code",
   "execution_count": 29,
   "metadata": {},
   "outputs": [
    {
     "name": "stdout",
     "output_type": "stream",
     "text": [
      "🥇 Gold Layer Creation Started\n",
      "📊 Creating analytics-ready aggregated data...\n"
     ]
    }
   ],
   "source": [
    "# Import required libraries\n",
    "import sys\n",
    "import pandas as pd\n",
    "import numpy as np\n",
    "from pathlib import Path\n",
    "from datetime import datetime\n",
    "\n",
    "# Add project root to path\n",
    "project_root = Path().absolute()\n",
    "sys.path.insert(0, str(project_root))\n",
    "\n",
    "from utils.database import DuckDBManager\n",
    "from config.settings import config\n",
    "\n",
    "# Initialize components\n",
    "config.setup_logging()\n",
    "db_manager = DuckDBManager()\n",
    "\n",
    "print(\"🥇 Gold Layer Creation Started\")\n",
    "print(\"📊 Creating analytics-ready aggregated data...\")"
   ]
  },
  {
   "cell_type": "markdown",
   "metadata": {},
   "source": [
    "## 1. Create Gold Schema"
   ]
  },
  {
   "cell_type": "code",
   "execution_count": 30,
   "metadata": {},
   "outputs": [
    {
     "name": "stderr",
     "output_type": "stream",
     "text": [
      "2025-06-18 17:34:10,568 - utils.database - INFO - S3 credentials configured\n",
      "2025-06-18 17:34:10,569 - utils.database - INFO - DuckDB connection configured successfully\n",
      "2025-06-18 17:34:10,572 - utils.database - INFO - SQL statement executed successfully\n",
      "2025-06-18 17:34:10,575 - utils.database - INFO - Query executed successfully. Returned 1 rows\n"
     ]
    },
    {
     "name": "stdout",
     "output_type": "stream",
     "text": [
      "🏗️ Creating gold schema...\n",
      "✅ Gold schema created\n",
      "📊 Silver layer contains 0 rows to aggregate\n"
     ]
    }
   ],
   "source": [
    "# Create gold schema\n",
    "print(\"🏗️ Creating gold schema...\")\n",
    "\n",
    "try:\n",
    "    db_manager.execute_sql(\"CREATE SCHEMA IF NOT EXISTS gold;\")\n",
    "    print(\"✅ Gold schema created\")\n",
    "    \n",
    "    # Check if silver data exists\n",
    "    silver_check = db_manager.execute_query(\"SELECT COUNT(*) as count FROM silver.cleaned_bond_data\")\n",
    "    silver_count = silver_check['count'].iloc[0]\n",
    "    print(f\"📊 Silver layer contains {silver_count:,} rows to aggregate\")\n",
    "    \n",
    "except Exception as e:\n",
    "    print(f\"❌ Schema creation failed: {e}\")"
   ]
  },
  {
   "cell_type": "markdown",
   "metadata": {},
   "source": [
    "## 2. Create Daily Aggregations"
   ]
  },
  {
   "cell_type": "code",
   "execution_count": 31,
   "metadata": {},
   "outputs": [
    {
     "name": "stderr",
     "output_type": "stream",
     "text": [
      "2025-06-18 17:34:10,616 - utils.database - INFO - SQL statement executed successfully\n",
      "2025-06-18 17:34:10,619 - utils.database - INFO - Query executed successfully. Returned 1 rows\n"
     ]
    },
    {
     "name": "stdout",
     "output_type": "stream",
     "text": [
      "📈 Creating daily aggregations...\n",
      "✅ Daily metrics created for 0 trading days\n"
     ]
    }
   ],
   "source": [
    "# Create daily aggregated data\n",
    "print(\"📈 Creating daily aggregations...\")\n",
    "\n",
    "daily_aggregation_sql = \"\"\"\n",
    "CREATE OR REPLACE TABLE gold.daily_bond_metrics AS\n",
    "SELECT \n",
    "    trade_date,\n",
    "    \n",
    "    -- Price metrics\n",
    "    COUNT(*) as total_trades,\n",
    "    AVG(price) as avg_price,\n",
    "    MIN(price) as min_price,\n",
    "    MAX(price) as max_price,\n",
    "    STDDEV(price) as price_volatility,\n",
    "    \n",
    "    -- Yield metrics  \n",
    "    AVG(yield_value) as avg_yield,\n",
    "    MIN(yield_value) as min_yield,\n",
    "    MAX(yield_value) as max_yield,\n",
    "    STDDEV(yield_value) as yield_volatility,\n",
    "    \n",
    "    -- Data quality metrics\n",
    "    SUM(CASE WHEN data_quality_flag = 'VALID' THEN 1 ELSE 0 END) as valid_trades,\n",
    "    SUM(CASE WHEN data_quality_flag = 'INCOMPLETE' THEN 1 ELSE 0 END) as incomplete_trades,\n",
    "    \n",
    "    -- Calculated metrics\n",
    "    ROUND(SUM(CASE WHEN data_quality_flag = 'VALID' THEN 1 ELSE 0 END) * 100.0 / COUNT(*), 2) as data_quality_pct,\n",
    "    \n",
    "    current_timestamp as gold_created_timestamp\n",
    "FROM silver.cleaned_bond_data\n",
    "WHERE data_quality_flag IN ('VALID', 'INCOMPLETE')\n",
    "GROUP BY trade_date\n",
    "ORDER BY trade_date\n",
    "\"\"\"\n",
    "\n",
    "try:\n",
    "    db_manager.execute_sql(daily_aggregation_sql)\n",
    "    \n",
    "    # Get row count\n",
    "    count_result = db_manager.execute_query(\"SELECT COUNT(*) as row_count FROM gold.daily_bond_metrics\")\n",
    "    row_count = count_result['row_count'].iloc[0]\n",
    "    print(f\"✅ Daily metrics created for {row_count:,} trading days\")\n",
    "    \n",
    "except Exception as e:\n",
    "    print(f\"❌ Daily aggregation failed: {e}\")"
   ]
  },
  {
   "cell_type": "markdown",
   "metadata": {},
   "source": [
    "## 3. Create Summary Views"
   ]
  },
  {
   "cell_type": "code",
   "execution_count": 32,
   "metadata": {},
   "outputs": [
    {
     "name": "stderr",
     "output_type": "stream",
     "text": [
      "2025-06-18 17:34:10,660 - utils.database - INFO - SQL statement executed successfully\n",
      "2025-06-18 17:34:10,665 - utils.database - INFO - Query executed successfully. Returned 0 rows\n"
     ]
    },
    {
     "name": "stdout",
     "output_type": "stream",
     "text": [
      "📊 Creating analytical views...\n",
      "✅ Analytical views created successfully\n",
      "\n",
      "📊 Sample Monthly Summary:\n",
      "Empty DataFrame\n",
      "Columns: [trade_month, monthly_total_trades, monthly_avg_price, monthly_avg_yield, monthly_avg_quality_pct, trading_days_in_month]\n",
      "Index: []\n"
     ]
    }
   ],
   "source": [
    "# Create analytical views\n",
    "print(\"📊 Creating analytical views...\")\n",
    "\n",
    "views_sql = \"\"\"\n",
    "-- Monthly summary view\n",
    "CREATE OR REPLACE VIEW gold.monthly_bond_summary AS\n",
    "SELECT \n",
    "    DATE_TRUNC('month', trade_date) as trade_month,\n",
    "    SUM(total_trades) as monthly_total_trades,\n",
    "    AVG(avg_price) as monthly_avg_price,\n",
    "    AVG(avg_yield) as monthly_avg_yield,\n",
    "    AVG(data_quality_pct) as monthly_avg_quality_pct,\n",
    "    COUNT(*) as trading_days_in_month\n",
    "FROM gold.daily_bond_metrics\n",
    "GROUP BY DATE_TRUNC('month', trade_date)\n",
    "ORDER BY trade_month;\n",
    "\n",
    "-- Data quality dashboard view\n",
    "CREATE OR REPLACE VIEW gold.data_quality_dashboard AS\n",
    "SELECT \n",
    "    'Last 30 Days' as period,\n",
    "    COUNT(*) as trading_days,\n",
    "    SUM(total_trades) as total_trades,\n",
    "    SUM(valid_trades) as valid_trades,\n",
    "    SUM(incomplete_trades) as incomplete_trades,\n",
    "    ROUND(AVG(data_quality_pct), 2) as avg_quality_pct,\n",
    "    MIN(trade_date) as period_start,\n",
    "    MAX(trade_date) as period_end\n",
    "FROM gold.daily_bond_metrics\n",
    "WHERE trade_date >= CURRENT_DATE - INTERVAL '30 days';\n",
    "\"\"\"\n",
    "\n",
    "try:\n",
    "    db_manager.execute_sql(views_sql)\n",
    "    print(\"✅ Analytical views created successfully\")\n",
    "    \n",
    "    # Test the views\n",
    "    monthly_summary = db_manager.execute_query(\"SELECT * FROM gold.monthly_bond_summary LIMIT 5\")\n",
    "    print(\"\\n📊 Sample Monthly Summary:\")\n",
    "    print(monthly_summary)\n",
    "    \n",
    "except Exception as e:\n",
    "    print(f\"❌ Views creation failed: {e}\")"
   ]
  },
  {
   "cell_type": "markdown",
   "metadata": {},
   "source": [
    "## 4. Performance Metrics and Summary"
   ]
  },
  {
   "cell_type": "code",
   "execution_count": 33,
   "metadata": {},
   "outputs": [
    {
     "name": "stderr",
     "output_type": "stream",
     "text": [
      "2025-06-18 17:34:10,701 - utils.database - INFO - Query executed successfully. Returned 1 rows\n",
      "2025-06-18 17:34:10,703 - utils.database - INFO - Query executed successfully. Returned 1 rows\n",
      "2025-06-18 17:34:10,706 - utils.database - INFO - Query executed successfully. Returned 1 rows\n",
      "2025-06-18 17:34:10,708 - utils.database - INFO - Query executed successfully. Returned 1 rows\n"
     ]
    },
    {
     "name": "stdout",
     "output_type": "stream",
     "text": [
      "📋 Gold Layer Summary\n",
      "========================================\n",
      "📊 Data Lake Layer Statistics:\n",
      "  Bronze Layer Records: 100,822,111\n",
      "  Silver Layer Records: 0\n",
      "  Gold Daily Metrics: 0\n",
      "  Gold Monthly Summaries: 0\n"
     ]
    },
    {
     "name": "stderr",
     "output_type": "stream",
     "text": [
      "2025-06-18 17:34:10,715 - utils.database - INFO - Query executed successfully. Returned 1 rows\n"
     ]
    },
    {
     "name": "stdout",
     "output_type": "stream",
     "text": [
      "\n",
      "📈 Data Quality Overview (Last 30 Days):\n",
      "         period  trading_days  total_trades  valid_trades  incomplete_trades  \\\n",
      "0  Last 30 Days             0           NaN           NaN                NaN   \n",
      "\n",
      "   avg_quality_pct period_start period_end  \n",
      "0              NaN          NaT        NaT  \n",
      "\n",
      "🏗️ Created Gold Layer Objects:\n",
      "  Tables:\n",
      "    - gold.daily_bond_metrics\n",
      "  Views:\n",
      "    - gold.monthly_bond_summary\n",
      "    - gold.data_quality_dashboard\n",
      "\n",
      "🎉 Gold layer creation completed successfully!\n",
      "📌 Your data lake is now ready for analytics and BI tools!\n"
     ]
    }
   ],
   "source": [
    "# Generate comprehensive summary\n",
    "print(\"📋 Gold Layer Summary\")\n",
    "print(\"=\" * 40)\n",
    "\n",
    "try:\n",
    "    # Get layer statistics\n",
    "    layer_stats = {\n",
    "        \"Bronze Layer Records\": \"SELECT COUNT(*) as count FROM bronze.bond_data\",\n",
    "        \"Silver Layer Records\": \"SELECT COUNT(*) as count FROM silver.cleaned_bond_data\",\n",
    "        \"Gold Daily Metrics\": \"SELECT COUNT(*) as count FROM gold.daily_bond_metrics\",\n",
    "        \"Gold Monthly Summaries\": \"SELECT COUNT(*) as count FROM gold.monthly_bond_summary\"\n",
    "    }\n",
    "    \n",
    "    print(\"📊 Data Lake Layer Statistics:\")\n",
    "    for stat_name, query in layer_stats.items():\n",
    "        try:\n",
    "            result = db_manager.execute_query(query)\n",
    "            count = result['count'].iloc[0]\n",
    "            print(f\"  {stat_name}: {count:,}\")\n",
    "        except:\n",
    "            print(f\"  {stat_name}: Not available\")\n",
    "    \n",
    "    # Get data quality overview\n",
    "    quality_overview = db_manager.execute_query(\"SELECT * FROM gold.data_quality_dashboard\")\n",
    "    print(\"\\n📈 Data Quality Overview (Last 30 Days):\")\n",
    "    print(quality_overview)\n",
    "    \n",
    "    # List all created objects\n",
    "    print(\"\\n🏗️ Created Gold Layer Objects:\")\n",
    "    print(\"  Tables:\")\n",
    "    print(\"    - gold.daily_bond_metrics\")\n",
    "    print(\"  Views:\")\n",
    "    print(\"    - gold.monthly_bond_summary\")\n",
    "    print(\"    - gold.data_quality_dashboard\")\n",
    "    \n",
    "    print(\"\\n🎉 Gold layer creation completed successfully!\")\n",
    "    print(\"📌 Your data lake is now ready for analytics and BI tools!\")\n",
    "    \n",
    "except Exception as e:\n",
    "    print(f\"❌ Summary generation failed: {e}\")"
   ]
  }
 ],
 "metadata": {
  "kernelspec": {
   "display_name": "Python 3 (ipykernel)",
   "language": "python",
   "name": "python3"
  },
  "language_info": {
   "codemirror_mode": {
    "name": "ipython",
    "version": 3
   },
   "file_extension": ".py",
   "mimetype": "text/x-python",
   "name": "python",
   "nbconvert_exporter": "python",
   "pygments_lexer": "ipython3",
   "version": "3.10.14"
  }
 },
 "nbformat": 4,
 "nbformat_minor": 4
}
