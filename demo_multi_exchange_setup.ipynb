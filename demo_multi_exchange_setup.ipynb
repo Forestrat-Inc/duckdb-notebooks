{
  "cells": [
    {
      "cell_type": "raw",
      "metadata": {
        "vscode": {
          "languageId": "raw"
        }
      },
      "source": [
        "# Multi-Exchange Data Lake Setup Demo\n",
        "\n",
        "This notebook demonstrates how to set up and use the new multi-exchange DuckDB data lake structure that supports LSE, CME, and NYQ exchanges with proper partitioning.\n",
        "\n",
        "## New S3 Structure Discovered:\n",
        "```\n",
        "vendor-data-s3/\n",
        "└── LSEG/TRTH/\n",
        "    ├── LSE/\n",
        "    │   ├── extraction/\n",
        "    │   ├── ingestion/      ← Daily partitioned (2025-01-01, 2025-01-02, etc.)\n",
        "    │   ├── normalization/\n",
        "    │   └── transformation/\n",
        "    ├── CME/\n",
        "    │   └── ingestion/      ← Daily partitioned\n",
        "    └── NYQ/\n",
        "        └── ingestion/      ← Daily partitioned\n",
        "```\n",
        "\n",
        "Each day contains:\n",
        "- `{EXCHANGE}-{DATE}-NORMALIZEDMP-Data-1-of-1.csv.gz` (main data)\n",
        "- `{EXCHANGE}-{DATE}-NORMALIZEDMP-Report-1-of-1.csv.gz` (summary report)\n"
      ]
    },
    {
      "cell_type": "code",
      "execution_count": null,
      "metadata": {},
      "outputs": [],
      "source": [
        "# Import required libraries\n",
        "import sys\n",
        "import os\n",
        "import pandas as pd\n",
        "import numpy as np\n",
        "import duckdb\n",
        "import logging\n",
        "from pathlib import Path\n",
        "from datetime import datetime, date, timedelta\n",
        "\n",
        "# Add project root to Python path\n",
        "project_root = Path.cwd()\n",
        "if str(project_root) not in sys.path:\n",
        "    sys.path.append(str(project_root))\n",
        "\n",
        "# Import custom modules\n",
        "from config import config\n",
        "from utils.database import DuckDBManager\n",
        "from utils.multi_exchange_loader import MultiExchangeLoader\n",
        "\n",
        "# Setup logging\n",
        "logging.basicConfig(level=logging.INFO)\n",
        "logger = logging.getLogger(__name__)\n",
        "\n",
        "print(\"✅ Imports successful!\")\n"
      ]
    },
    {
      "cell_type": "raw",
      "metadata": {
        "vscode": {
          "languageId": "raw"
        }
      },
      "source": [
        "## 1. Create New Database and Tables\n"
      ]
    },
    {
      "cell_type": "code",
      "execution_count": null,
      "metadata": {},
      "outputs": [],
      "source": [
        "# Create a new database for the multi-exchange setup\n",
        "multi_exchange_db_path = './multi_exchange_data_lake.duckdb'\n",
        "\n",
        "# Initialize database manager with new database\n",
        "db_manager = DuckDBManager(database_path=multi_exchange_db_path)\n",
        "conn = db_manager.connect()\n",
        "\n",
        "print(f\"✅ Connected to new database: {multi_exchange_db_path}\")\n",
        "print(f\"DuckDB Version: {conn.execute('SELECT version()').fetchone()[0]}\")\n"
      ]
    },
    {
      "cell_type": "code",
      "execution_count": null,
      "metadata": {},
      "outputs": [],
      "source": [
        "# Create the multi-exchange schema\n",
        "print(\"🏗️ Creating database schema...\")\n",
        "\n",
        "# Read the SQL schema file\n",
        "with open('create_tables_with_partitioning.sql', 'r') as f:\n",
        "    sql_script = f.read()\n",
        "\n",
        "# Split into individual statements and execute\n",
        "statements = [stmt.strip() for stmt in sql_script.split(';') if stmt.strip() and not stmt.strip().startswith('--')]\n",
        "\n",
        "successful_statements = 0\n",
        "failed_statements = 0\n",
        "\n",
        "for i, statement in enumerate(statements):\n",
        "    if statement:\n",
        "        try:\n",
        "            conn.execute(statement)\n",
        "            successful_statements += 1\n",
        "            if i % 10 == 0:  # Progress indicator\n",
        "                print(f\"  ✓ Executed {i+1}/{len(statements)} statements...\")\n",
        "        except Exception as e:\n",
        "            failed_statements += 1\n",
        "            if \"already exists\" not in str(e).lower():\n",
        "                print(f\"  ⚠️  Warning in statement {i+1}: {e}\")\n",
        "\n",
        "print(f\"\\n✅ Schema creation completed!\")\n",
        "print(f\"   Successful: {successful_statements}\")\n",
        "print(f\"   Failed/Warnings: {failed_statements}\")\n"
      ]
    },
    {
      "cell_type": "code",
      "execution_count": null,
      "metadata": {},
      "outputs": [],
      "source": [
        "# Initialize the multi-exchange loader\n",
        "loader = MultiExchangeLoader(db_manager=db_manager)\n",
        "\n",
        "print(\"✅ Multi-Exchange Loader initialized\")\n",
        "print(\"\\n📋 Supported Exchanges:\")\n",
        "for exchange, config in loader.exchanges.items():\n",
        "    print(f\"  🏢 {exchange}:\")\n",
        "    print(f\"     Stages: {', '.join(config['stages'])}\")\n",
        "    print(f\"     Table: {config['table']}\")\n",
        "    print(f\"     Timezone: {config['timezone']}\")\n"
      ]
    }
  ],
  "metadata": {
    "language_info": {
      "name": "python"
    }
  },
  "nbformat": 4,
  "nbformat_minor": 2
}
